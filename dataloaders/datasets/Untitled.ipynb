{
 "cells": [
  {
   "cell_type": "code",
   "execution_count": 1,
   "metadata": {},
   "outputs": [],
   "source": [
    "import pandas as pd\n"
   ]
  },
  {
   "cell_type": "code",
   "execution_count": 2,
   "metadata": {},
   "outputs": [],
   "source": [
    "df = pd.read_csv('Color_Label.csv')"
   ]
  },
  {
   "cell_type": "code",
   "execution_count": 3,
   "metadata": {},
   "outputs": [
    {
     "name": "stdout",
     "output_type": "stream",
     "text": [
      "          0 0 0    0      void                            Void\n",
      "0    70 130 180    1     s_w_d                        Dividing\n",
      "1     220 20 60    2     s_y_d            Middle Parallel line\n",
      "2     128 0 128    3   ds_w_dn              Right line Parking\n",
      "3       255 0 0    4   ds_y_dn                     Border Line\n",
      "4        0 0 60    5   sb_w_do                 Continuous Line\n",
      "5      0 60 100    6   sb_y_do                      Right Turn\n",
      "6       0 0 142    7     b_w_g                         Guiding\n",
      "7     119 11 32    8     b_y_g                   Left Dashline\n",
      "8    244 35 232    9    db_w_g                      Cycle line\n",
      "9       0 0 160   10    db_y_g                Thick guide Line\n",
      "10  153 153 153   11    db_w_s                        Stopping\n",
      "11    220 220 0   12     s_w_s                Convergence Line\n",
      "12   250 170 30   13    ds_w_s                     Safety line\n",
      "13  102 102 156   14     s_w_c  Left-Right Dash Separated Line\n",
      "14      128 0 0   15     s_y_c                         Chevron\n",
      "15   128 64 128   16     s_w_p                      Fork Arrow\n",
      "16  238 232 170   17     s_n_p                  Turn-Left Line\n",
      "17  190 153 153   18    c_wy_z                   ZebraCrossing\n",
      "18      0 0 230   19     a_w_u                      DoubleTurn\n",
      "19    128 128 0   20     a_w_t                  Straight Arrow\n",
      "20   128 78 160   21    a_w_tl                 Continuous Line\n",
      "21  150 100 100   22    a_w_tr                     Circle Turn\n",
      "22    255 165 0   23   a_w_tlr        Yield Sign without Words\n",
      "23  180 165 180   24     a_w_l                        TurnLeft\n",
      "24   107 142 35   25     a_w_r              Three Merged Lines\n",
      "25  201 255 229   26    a_w_lr                     Double Turn\n",
      "26    0 191 255   27    a_n_lu                   Straight Line\n",
      "27    51 255 51   28    a_w_tu                     Right Arrow\n",
      "28  250 128 114   29     a_w_m           Pedestrian stand Line\n",
      "29    127 255 0   30     a_y_t                      Turn Right\n",
      "30    255 128 0   31    b_n_sr                       Reduction\n",
      "31    0 255 255   32   d_wy_za                       Attention\n",
      "32  178 132 190   33   r_wy_np                      No Parking\n",
      "33   128 128 64   34  vom_wy_n             Turn Allowance Line\n",
      "34    102 0 204   35    om_n_n                         Parking\n",
      "35    0 153 153  255     noise                      Curve Sign\n",
      "36  255 255 255  255   ignored                         Ignored\n"
     ]
    }
   ],
   "source": [
    "print(df)"
   ]
  },
  {
   "cell_type": "code",
   "execution_count": null,
   "metadata": {},
   "outputs": [],
   "source": []
  }
 ],
 "metadata": {
  "kernelspec": {
   "display_name": "Python 3",
   "language": "python",
   "name": "python3"
  },
  "language_info": {
   "codemirror_mode": {
    "name": "ipython",
    "version": 3
   },
   "file_extension": ".py",
   "mimetype": "text/x-python",
   "name": "python",
   "nbconvert_exporter": "python",
   "pygments_lexer": "ipython3",
   "version": "3.6.9"
  }
 },
 "nbformat": 4,
 "nbformat_minor": 2
}
