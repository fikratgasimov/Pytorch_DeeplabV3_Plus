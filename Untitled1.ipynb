{
 "cells": [
  {
   "cell_type": "code",
   "execution_count": 4,
   "metadata": {},
   "outputs": [],
   "source": [
    "import random\n",
    "import numpy as np\n",
    "from torchvision import transforms\n",
    "class RandomCrop(object):\n",
    "\n",
    "    def __init__(self, crop_size):\n",
    "        self.crop_size = (crop_size, crop_size)\n",
    "\n",
    "\n",
    "    def __call__(self, sample):\n",
    "\n",
    "        img = sample[\"image\"]\n",
    "        gt = sample[\"label\"]\n",
    "\n",
    "        w, h = img.size\n",
    "        new_h, new_w = self.crop_size\n",
    "\n",
    "        if w > new_w and h > new_h:\n",
    "            i = self.crop_size\n",
    "            print(\"w: \", w, \"new_w: \", new_w)\n",
    "            \n",
    "\n",
    "            left, right = np.random.randint(0, w - (new_w + i))\n",
    "            j = np.random.randint(left, w - right - self.crop_size)\n",
    "            return i, j, left, right\n",
    "\n",
    "\n",
    "\n",
    "        new_img = transforms.functional.crop(img, 512, j, 512, 512)\n",
    "        new_gt = transforms.functional.crop(gt, 512, j, 512, 512)\n",
    "        return {'image': new_img,\n",
    "                'label': new_gt}\n"
   ]
  },
  {
   "cell_type": "code",
   "execution_count": null,
   "metadata": {},
   "outputs": [],
   "source": [
    "crop = RandomCrop([512, 512])"
   ]
  }
 ],
 "metadata": {
  "kernelspec": {
   "display_name": "Python 3",
   "language": "python",
   "name": "python3"
  },
  "language_info": {
   "codemirror_mode": {
    "name": "ipython",
    "version": 3
   },
   "file_extension": ".py",
   "mimetype": "text/x-python",
   "name": "python",
   "nbconvert_exporter": "python",
   "pygments_lexer": "ipython3",
   "version": "3.6.9"
  }
 },
 "nbformat": 4,
 "nbformat_minor": 2
}
